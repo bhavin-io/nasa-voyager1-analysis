{
 "cells": [
  {
   "cell_type": "code",
   "execution_count": 17,
   "outputs": [],
   "source": [
    "import spiceypy as spice"
   ],
   "metadata": {
    "collapsed": false,
    "ExecuteTime": {
     "end_time": "2025-06-02T18:58:36.025914900Z",
     "start_time": "2025-06-02T18:58:36.021644400Z"
    }
   },
   "id": "22f0e89201e20cff"
  },
  {
   "cell_type": "code",
   "execution_count": 18,
   "outputs": [],
   "source": [
    "# Load SPICE kernels\n",
    "spice.furnsh('./kernels/lsk/naif0012.tls')\n",
    "spice.furnsh('./kernels/spk/vgr1_jup230.bsp')\n",
    "spice.furnsh('./kernels/spk/vgr1_sat337.bsp')\n",
    "spice.furnsh('./kernels/spk/vgr1.x2100.bsp')\n"
   ],
   "metadata": {
    "collapsed": false,
    "ExecuteTime": {
     "end_time": "2025-06-02T18:58:37.119746Z",
     "start_time": "2025-06-02T18:58:37.090918300Z"
    }
   },
   "id": "initial_id"
  }
 ],
 "metadata": {
  "kernelspec": {
   "display_name": "Python 3",
   "language": "python",
   "name": "python3"
  },
  "language_info": {
   "codemirror_mode": {
    "name": "ipython",
    "version": 2
   },
   "file_extension": ".py",
   "mimetype": "text/x-python",
   "name": "python",
   "nbconvert_exporter": "python",
   "pygments_lexer": "ipython2",
   "version": "2.7.6"
  }
 },
 "nbformat": 4,
 "nbformat_minor": 5
}
